{
 "cells": [
  {
   "cell_type": "markdown",
   "metadata": {},
   "source": [
    "Note: This notebook uses f-strings, so it can only run in Python >= 3.6"
   ]
  },
  {
   "cell_type": "code",
   "execution_count": 1,
   "metadata": {},
   "outputs": [],
   "source": [
    "import os\n",
    "import pandas\n",
    "import numpy as np\n",
    "from pathlib import Path"
   ]
  },
  {
   "cell_type": "code",
   "execution_count": 2,
   "metadata": {},
   "outputs": [],
   "source": [
    "base_path = Path('wx_data/')\n",
    "weather_files = sorted(os.listdir(base_path))"
   ]
  },
  {
   "cell_type": "code",
   "execution_count": 3,
   "metadata": {},
   "outputs": [],
   "source": [
    "OUTPUT_PATH = 'answers/YearlyAverages.out'\n",
    "\n",
    "# clear or create the output file\n",
    "with open(OUTPUT_PATH, 'w'):\n",
    "    pass\n",
    "\n",
    "def write_outfile(line):\n",
    "    ''' Write a line of output to the output data file.\n",
    "    \n",
    "    Parameters\n",
    "    ----------\n",
    "    line : str\n",
    "        The line to write.\n",
    "        \n",
    "    Returns\n",
    "    -------\n",
    "    None\n",
    "    '''\n",
    "    with open(OUTPUT_PATH, 'a') as f:\n",
    "        f.write(line)"
   ]
  },
  {
   "cell_type": "code",
   "execution_count": 4,
   "metadata": {},
   "outputs": [],
   "source": [
    "def filter_year(frame, year):\n",
    "    ''' Return a data frame with valid values where the date is within the\n",
    "        provided year and NaNs outside this range.\n",
    "    \n",
    "    Parameters\n",
    "    ----------\n",
    "    frame : pandas.core.frame.DataFrame\n",
    "        The data frame from which to filter values.\n",
    "        \n",
    "    year : int\n",
    "        The year to filter by.\n",
    "        \n",
    "    Returns\n",
    "    -------\n",
    "    pandas.core.frame.DataFrame\n",
    "        The frame, with dates within `year` selected.\n",
    "        \n",
    "    Notes\n",
    "    -----\n",
    "    This function assumes `frame` has the date stored in column 0 formatted\n",
    "    in YYYYMMDD format.\n",
    "    '''\n",
    "    return frame.where((year*10000 < frame[0]) & (frame[0] < (year+1)*10000))"
   ]
  },
  {
   "cell_type": "code",
   "execution_count": 5,
   "metadata": {},
   "outputs": [],
   "source": [
    "def process_file(file_path, fname):\n",
    "    ''' Process a single file, computing the means of the max temperature, min temperature,\n",
    "        and precipitation per year and writing them to a file.\n",
    "    \n",
    "    Parameters\n",
    "    ----------\n",
    "    file_path : Union[str, pathlib.Path]\n",
    "        The path to the file to process.\n",
    "        \n",
    "    Returns\n",
    "    -------\n",
    "    None\n",
    "    \n",
    "    Notes\n",
    "    -----\n",
    "    Writes the means of the minimum and maximum temperatures and the precipitation\n",
    "    to `OUTPUT_FILE` in the format\n",
    "        fname 1985 min_tmp max_tmp precip\n",
    "        fname 1986 min_tmp max_tmp precip\n",
    "        fname 1987 min_tmp max_tmp precip\n",
    "        ...\n",
    "        fname 2014 min_tmp max_tmp precip\n",
    "    '''\n",
    "    file = pandas.read_csv(str(file_path / fname), sep='\\t', header=None)\n",
    "\n",
    "    tmp_maxs, tmp_mins, precips = [], [], []\n",
    "    for year in range(1985, 2015):\n",
    "        filtered_file = filter_year(file, year)\n",
    "\n",
    "        tmp_max = filtered_file[1][filtered_file[1] != -9999].mean()\n",
    "        tmp_min = filter_year(file, year)[2][filtered_file[2] != -9999].mean()\n",
    "        precip = filter_year(file, year)[3][filtered_file[3] != -9999].mean()\n",
    "        \n",
    "        tmp_max = -9999 if np.isnan(tmp_max) else tmp_max\n",
    "        tmp_min = -9999 if np.isnan(tmp_min) else tmp_min\n",
    "        precip = -9999 if np.isnan(precip) else precip\n",
    "        write_outfile(f'{fname}\\t{year}\\t{tmp_max:.2f}\\t{tmp_min:.2f}\\t{precip:.2f}\\n')"
   ]
  },
  {
   "cell_type": "code",
   "execution_count": 6,
   "metadata": {},
   "outputs": [],
   "source": [
    "for fname in weather_files:\n",
    "    process_file(base_path, fname)"
   ]
  },
  {
   "cell_type": "code",
   "execution_count": null,
   "metadata": {},
   "outputs": [],
   "source": []
  }
 ],
 "metadata": {
  "kernelspec": {
   "display_name": "Python 3",
   "language": "python",
   "name": "python3"
  },
  "language_info": {
   "codemirror_mode": {
    "name": "ipython",
    "version": 3
   },
   "file_extension": ".py",
   "mimetype": "text/x-python",
   "name": "python",
   "nbconvert_exporter": "python",
   "pygments_lexer": "ipython3",
   "version": "3.6.5"
  }
 },
 "nbformat": 4,
 "nbformat_minor": 2
}
